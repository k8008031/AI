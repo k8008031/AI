{
 "cells": [
  {
   "cell_type": "code",
   "execution_count": 9,
   "id": "03551c6d",
   "metadata": {},
   "outputs": [
    {
     "name": "stdout",
     "output_type": "stream",
     "text": [
      "實際 [1 0 1 1 1 1 0 1 2 1 0 2 2 0 2 0 1 0 2 0 2 2 0 1 2 1 1 0 0 1 1 2 1 1 1 1 1\n",
      " 1 0 2 2 0 1 0 1 1 0 0 1 2 1 1 1 2 2 2 2 0 2 1 0 0 0 0 0 1 2 1 0 0 1 2 2 2\n",
      " 2 0 2 2 2 0 2 2 0 0 2 1 2 1 2 1 0 2 1 0 2 0 1 0 2 1 1 2 1 1 2 0 1 2 0 1 2\n",
      " 0 2 1 0 0 1 0 1 2]\n",
      "預測 [0 1 0 0 0 0 1 0 0 0 1 2 2 1 2 1 0 1 0 1 2 2 1 0 0 0 0 1 1 0 0 2 0 0 0 0 0\n",
      " 0 1 0 2 1 0 1 0 0 1 1 0 0 0 0 0 2 2 0 2 1 2 0 1 1 1 1 1 0 2 0 1 1 0 2 2 2\n",
      " 0 1 0 0 2 1 2 2 1 1 2 0 0 0 2 0 1 2 0 1 2 1 0 1 2 0 0 2 0 0 2 1 0 2 1 2 0\n",
      " 1 2 0 1 1 0 1 0 2]\n",
      "調整 [0 1 0 0 0 0 1 0 2 0 1 2 2 1 2 1 0 1 2 1 2 2 1 0 2 0 0 1 1 0 0 2 0 0 0 0 0\n",
      " 0 1 2 2 1 0 1 0 0 1 1 0 2 0 0 0 2 2 2 2 1 2 0 1 1 1 1 1 0 2 0 1 1 0 2 2 2\n",
      " 2 1 2 2 2 1 2 2 1 1 2 0 2 0 2 0 1 2 0 1 2 1 0 1 2 0 0 2 0 0 2 1 0 2 1 0 2\n",
      " 1 2 0 1 1 0 1 0 2]\n",
      "準確率:0.900000\n"
     ]
    }
   ],
   "source": [
    "import matplotlib.pyplot as plt\n",
    "import numpy as np\n",
    "from sklearn  import datasets\n",
    "from sklearn.model_selection import train_test_split  #匯入kMEAN函式庫\n",
    "from sklearn.cluster  import KMeans\n",
    "from sklearn  import metrics\n",
    "\n",
    "\n",
    "#取得資料\n",
    "iris=datasets.load_iris()\n",
    "\n",
    "#拆分資料80:20 訓練與測試用 2類標籤答案\n",
    "iris_X_train,iris_X_test,iris_y_train,iris_y_test=train_test_split(iris.data,iris.target,test_size=0.2)\n",
    "\n",
    "#kmeans演算法2類標籤答案\n",
    "kmeans=KMeans(n_clusters=3)\n",
    "kmeans_fit=kmeans.fit(iris_X_train)#訓練沒有標籤答案\n",
    "\n",
    "print(\"實際\",iris_y_train)#訓練標籤答案\n",
    "print(\"預測\",kmeans_fit.labels_)#訓練預測答案\n",
    "\n",
    "\n",
    "#調整標籤的數字\n",
    "iris_y_train[iris_y_train==1]=11\n",
    "iris_y_train[iris_y_train==0]=1\n",
    "iris_y_train[iris_y_train==11]=0\n",
    "\n",
    "print(\"調整\",iris_y_train)#顯示調整後的預測\n",
    "\n",
    "score=metrics.accuracy_score(iris_y_train,kmeans.predict(iris_X_train))\n",
    "print(\"準確率:{0:f}\".format(score))#顯示準確率\n"
   ]
  },
  {
   "cell_type": "code",
   "execution_count": null,
   "id": "a4c46d6f",
   "metadata": {},
   "outputs": [],
   "source": []
  }
 ],
 "metadata": {
  "kernelspec": {
   "display_name": "Python 3",
   "language": "python",
   "name": "python3"
  },
  "language_info": {
   "codemirror_mode": {
    "name": "ipython",
    "version": 3
   },
   "file_extension": ".py",
   "mimetype": "text/x-python",
   "name": "python",
   "nbconvert_exporter": "python",
   "pygments_lexer": "ipython3",
   "version": "3.7.10"
  }
 },
 "nbformat": 4,
 "nbformat_minor": 5
}
